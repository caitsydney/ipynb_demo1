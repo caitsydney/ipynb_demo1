{
 "metadata": {
  "name": "greg_email_template"
 },
 "nbformat": 3,
 "nbformat_minor": 0,
 "worksheets": [
  {
   "cells": [
    {
     "cell_type": "markdown",
     "metadata": {},
     "source": [
      "##Greg Wilson and Email\n",
      "Greg sends a lot of Software Carpentry related email. What do these messages actually say?\n",
      "\n",
      "(0) Why the IPython Notbeook? Why Python? Cause it's powerful, well-documented, and just plain cool. See [A Love Letter in ipynb](http://nbviewer.ipython.org/b0034ba7ec690e89ea79)\n",
      "\n",
      "(1) Where is the data from?\n",
      "[Software Carpenty listserv archives](http://lists.software-carpentry.org/pipermail/tutors-software-carpentry.org/)\n",
      "\n",
      "(2) How do we clean up the data?\n",
      "clean_file.py, on GitHub if you're interestested.\n",
      "\n",
      "(3) What does the data set look like?"
     ]
    },
    {
     "cell_type": "code",
     "collapsed": false,
     "input": [
      "#view the text data file"
     ],
     "language": "python",
     "metadata": {},
     "outputs": [],
     "prompt_number": 2
    },
    {
     "cell_type": "markdown",
     "metadata": {},
     "source": [
      "(4) How do I get my dataset into Python? File open/close, storing data in a list"
     ]
    },
    {
     "cell_type": "code",
     "collapsed": false,
     "input": [],
     "language": "python",
     "metadata": {},
     "outputs": []
    },
    {
     "cell_type": "markdown",
     "metadata": {},
     "source": [
      "(5) How do I calculate frequencies?"
     ]
    },
    {
     "cell_type": "code",
     "collapsed": false,
     "input": [],
     "language": "python",
     "metadata": {},
     "outputs": []
    },
    {
     "cell_type": "markdown",
     "metadata": {},
     "source": [
      "(6) How do I sort a list? And what about a list of lists?"
     ]
    },
    {
     "cell_type": "code",
     "collapsed": false,
     "input": [],
     "language": "python",
     "metadata": {},
     "outputs": []
    },
    {
     "cell_type": "markdown",
     "metadata": {},
     "source": [
      "(7) How do I graph my frequencies?"
     ]
    },
    {
     "cell_type": "code",
     "collapsed": false,
     "input": [],
     "language": "python",
     "metadata": {},
     "outputs": []
    },
    {
     "cell_type": "markdown",
     "metadata": {},
     "source": [
      "(8) What else can I calculate?"
     ]
    },
    {
     "cell_type": "code",
     "collapsed": false,
     "input": [],
     "language": "python",
     "metadata": {},
     "outputs": []
    },
    {
     "cell_type": "markdown",
     "metadata": {},
     "source": [
      "####Other fun datasets\n",
      "* [Airplane bird strikes](http://www.tableausoftware.com/public/community/sample-data-sets)\n",
      "* [Game of Thrones death relationships](http://www.guardian.co.uk/news/datablog/interactive/2013/may/09/game-of-thrones-death-relationships)\n",
      "* [Information is beautiful](http://www.informationisbeautiful.net/data/)\n",
      "* [Research quality data sets](http://bitly.com/bundles/hmason/1)\n",
      "* [Data hub](http://datahub.io/)\n",
      "* [Meth lab database and other things to try in matplotlib](http://peak5390.wordpress.com/2012/12/08/matplotlib-basemap-tutorial-interesting-datasets-to-explore/)\n",
      "\n",
      "####Cool examples in matplotlib\n",
      "* [Sub plots](http://matplotlib.org/examples/pylab_examples/subplots_demo.html)\n",
      "* [Stack plots](http://matplotlib.org/examples/pylab_examples/stackplot_demo.html)\n",
      "* [Color maps](http://matplotlib.org/examples/pylab_examples/pcolor_demo.html)\n",
      "\n",
      "####Extras\n",
      "* [Colors in python](http://matplotlib.org/examples/pylab_examples/show_colormaps.html)"
     ]
    },
    {
     "cell_type": "code",
     "collapsed": false,
     "input": [],
     "language": "python",
     "metadata": {},
     "outputs": []
    }
   ],
   "metadata": {}
  }
 ]
}